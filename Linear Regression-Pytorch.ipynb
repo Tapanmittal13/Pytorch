{
 "cells": [
  {
   "cell_type": "code",
   "execution_count": 115,
   "metadata": {},
   "outputs": [],
   "source": [
    "import torch\n",
    "import numpy as np\n",
    "import matplotlib.pyplot as plt\n",
    "%matplotlib inline "
   ]
  },
  {
   "cell_type": "markdown",
   "metadata": {},
   "source": [
    "# Independent Variables"
   ]
  },
  {
   "cell_type": "code",
   "execution_count": 95,
   "metadata": {},
   "outputs": [
    {
     "data": {
      "text/plain": [
       "[0, 1, 2, 3, 4, 5, 6, 7, 8, 9, 10]"
      ]
     },
     "execution_count": 95,
     "metadata": {},
     "output_type": "execute_result"
    }
   ],
   "source": [
    "x=[i for i in range(11)] #a list is created\n",
    "x"
   ]
  },
  {
   "cell_type": "code",
   "execution_count": 96,
   "metadata": {},
   "outputs": [
    {
     "name": "stdout",
     "output_type": "stream",
     "text": [
      "(11,)\n"
     ]
    },
    {
     "data": {
      "text/plain": [
       "array([ 0.,  1.,  2.,  3.,  4.,  5.,  6.,  7.,  8.,  9., 10.],\n",
       "      dtype=float32)"
      ]
     },
     "execution_count": 96,
     "metadata": {},
     "output_type": "execute_result"
    }
   ],
   "source": [
    "x=np.array(x,dtype=np.float32) #we have to convert them to array and then to tensor\n",
    "#datatype should be float for gradient calculations\n",
    "print(x.shape)\n",
    "x"
   ]
  },
  {
   "cell_type": "code",
   "execution_count": 97,
   "metadata": {},
   "outputs": [
    {
     "data": {
      "text/plain": [
       "array([[ 0.],\n",
       "       [ 1.],\n",
       "       [ 2.],\n",
       "       [ 3.],\n",
       "       [ 4.],\n",
       "       [ 5.],\n",
       "       [ 6.],\n",
       "       [ 7.],\n",
       "       [ 8.],\n",
       "       [ 9.],\n",
       "       [10.]], dtype=float32)"
      ]
     },
     "execution_count": 97,
     "metadata": {},
     "output_type": "execute_result"
    }
   ],
   "source": [
    "#2D required\n",
    "x=x.reshape(-1,1) #change from single array to 11 nested arrays \n",
    "x"
   ]
  },
  {
   "cell_type": "code",
   "execution_count": 98,
   "metadata": {},
   "outputs": [
    {
     "data": {
      "text/plain": [
       "(11, 1)"
      ]
     },
     "execution_count": 98,
     "metadata": {},
     "output_type": "execute_result"
    }
   ],
   "source": [
    "x.shape"
   ]
  },
  {
   "cell_type": "markdown",
   "metadata": {},
   "source": [
    "# Dependent Variables"
   ]
  },
  {
   "cell_type": "code",
   "execution_count": 99,
   "metadata": {},
   "outputs": [],
   "source": [
    "y=[2*i+1 for i in x]\n",
    "y=np.array(y,dtype=np.float32)"
   ]
  },
  {
   "cell_type": "code",
   "execution_count": 100,
   "metadata": {},
   "outputs": [
    {
     "data": {
      "text/plain": [
       "array([[ 1.],\n",
       "       [ 3.],\n",
       "       [ 5.],\n",
       "       [ 7.],\n",
       "       [ 9.],\n",
       "       [11.],\n",
       "       [13.],\n",
       "       [15.],\n",
       "       [17.],\n",
       "       [19.],\n",
       "       [21.]], dtype=float32)"
      ]
     },
     "execution_count": 100,
     "metadata": {},
     "output_type": "execute_result"
    }
   ],
   "source": [
    "y=y.reshape(-1,1)\n",
    "y"
   ]
  },
  {
   "cell_type": "code",
   "execution_count": 101,
   "metadata": {},
   "outputs": [
    {
     "data": {
      "text/plain": [
       "(11, 1)"
      ]
     },
     "execution_count": 101,
     "metadata": {},
     "output_type": "execute_result"
    }
   ],
   "source": [
    "y.shape"
   ]
  },
  {
   "cell_type": "code",
   "execution_count": 102,
   "metadata": {},
   "outputs": [],
   "source": [
    "#Incase you cant use comprehension(iterators)\n",
    "#y=[]\n",
    "#for i in x\n",
    "    #result=2*i+1\n",
    "    #y.append(result)"
   ]
  },
  {
   "cell_type": "code",
   "execution_count": 103,
   "metadata": {},
   "outputs": [],
   "source": [
    "import torch.nn as nn #Helps in building our linear regression model\n",
    "from torch.autograd import Variable"
   ]
  },
  {
   "cell_type": "code",
   "execution_count": 104,
   "metadata": {},
   "outputs": [],
   "source": [
    "#Create model\n",
    "class LinearRegressionModel(nn.Module):\n",
    "    def __init__(self,input_size,output_size):\n",
    "        super(LinearRegressionModel,self).__init__() #Inherits nn.module and allows to access all its goodness \n",
    "        self.Linear=nn.Linear(input_dim,output_dim) #Input Dimension is x and output dimension is y\n",
    "        \n",
    "    def forward(self,x): #Create forward function\n",
    "        out=self.Linear(x)\n",
    "        return out"
   ]
  },
  {
   "cell_type": "code",
   "execution_count": 105,
   "metadata": {},
   "outputs": [],
   "source": [
    "#Instantiate above class(creating object by passing parameters to the constructor) \n",
    "\n",
    "input_dim=1 #dimension is 1 for both x and y\n",
    "output_dim=1\n",
    "model=LinearRegressionModel(input_dim,output_dim)\n",
    "\n",
    "#GPU version\n",
    "if torch.cuda.is_available():\n",
    "    model.cuda()"
   ]
  },
  {
   "cell_type": "code",
   "execution_count": 106,
   "metadata": {},
   "outputs": [],
   "source": [
    "#Instantiate loss class\n",
    "criterion=nn.MSELoss()"
   ]
  },
  {
   "cell_type": "code",
   "execution_count": 107,
   "metadata": {},
   "outputs": [],
   "source": [
    "#Instantiate optimizer classS\n",
    "lr=.01\n",
    "optimizer=torch.optim.SGD(model.parameters(),lr=lr)"
   ]
  },
  {
   "cell_type": "code",
   "execution_count": 108,
   "metadata": {},
   "outputs": [
    {
     "name": "stdout",
     "output_type": "stream",
     "text": [
      "epoch 1,loss 63.34136962890625\n",
      "epoch 2,loss 5.210350513458252\n",
      "epoch 3,loss 0.4682990610599518\n",
      "epoch 4,loss 0.08102156966924667\n",
      "epoch 5,loss 0.04895449057221413\n",
      "epoch 6,loss 0.0458659790456295\n",
      "epoch 7,loss 0.04514644294977188\n",
      "epoch 8,loss 0.04462534561753273\n",
      "epoch 9,loss 0.044125642627477646\n",
      "epoch 10,loss 0.043632857501506805\n",
      "epoch 11,loss 0.04314561188220978\n",
      "epoch 12,loss 0.04266384616494179\n",
      "epoch 13,loss 0.04218737781047821\n",
      "epoch 14,loss 0.04171627014875412\n",
      "epoch 15,loss 0.04125043377280235\n",
      "epoch 16,loss 0.04078982397913933\n",
      "epoch 17,loss 0.040334295481443405\n",
      "epoch 18,loss 0.03988388925790787\n",
      "epoch 19,loss 0.03943851217627525\n",
      "epoch 20,loss 0.03899805247783661\n",
      "epoch 21,loss 0.038562677800655365\n",
      "epoch 22,loss 0.03813198208808899\n",
      "epoch 23,loss 0.037706244736909866\n",
      "epoch 24,loss 0.03728513419628143\n",
      "epoch 25,loss 0.03686877340078354\n",
      "epoch 26,loss 0.0364571213722229\n",
      "epoch 27,loss 0.03604996204376221\n",
      "epoch 28,loss 0.03564741462469101\n",
      "epoch 29,loss 0.035249389708042145\n",
      "epoch 30,loss 0.03485573083162308\n",
      "epoch 31,loss 0.034466493874788284\n",
      "epoch 32,loss 0.03408154100179672\n",
      "epoch 33,loss 0.03370100259780884\n",
      "epoch 34,loss 0.03332466259598732\n",
      "epoch 35,loss 0.032952528446912766\n",
      "epoch 36,loss 0.03258463367819786\n",
      "epoch 37,loss 0.032220713794231415\n",
      "epoch 38,loss 0.031860969960689545\n",
      "epoch 39,loss 0.031505126506090164\n",
      "epoch 40,loss 0.031153347343206406\n",
      "epoch 41,loss 0.030805470421910286\n",
      "epoch 42,loss 0.030461503192782402\n",
      "epoch 43,loss 0.030121300369501114\n",
      "epoch 44,loss 0.029784904792904854\n",
      "epoch 45,loss 0.029452282935380936\n",
      "epoch 46,loss 0.029123397544026375\n",
      "epoch 47,loss 0.028798120096325874\n",
      "epoch 48,loss 0.028476569801568985\n",
      "epoch 49,loss 0.028158636763691902\n",
      "epoch 50,loss 0.02784419059753418\n",
      "epoch 51,loss 0.027533194050192833\n",
      "epoch 52,loss 0.027225783094763756\n",
      "epoch 53,loss 0.026921719312667847\n",
      "epoch 54,loss 0.026621125638484955\n",
      "epoch 55,loss 0.02632385864853859\n",
      "epoch 56,loss 0.026029888540506363\n",
      "epoch 57,loss 0.025739232078194618\n",
      "epoch 58,loss 0.025451790541410446\n",
      "epoch 59,loss 0.025167591869831085\n",
      "epoch 60,loss 0.024886447936296463\n",
      "epoch 61,loss 0.02460862323641777\n",
      "epoch 62,loss 0.02433379553258419\n",
      "epoch 63,loss 0.024062074720859528\n",
      "epoch 64,loss 0.023793403059244156\n",
      "epoch 65,loss 0.023527689278125763\n",
      "epoch 66,loss 0.023264938965439796\n",
      "epoch 67,loss 0.023005183786153793\n",
      "epoch 68,loss 0.02274831384420395\n",
      "epoch 69,loss 0.022494236007332802\n",
      "epoch 70,loss 0.022243019193410873\n",
      "epoch 71,loss 0.021994633600115776\n",
      "epoch 72,loss 0.021749082952737808\n",
      "epoch 73,loss 0.021506253629922867\n",
      "epoch 74,loss 0.021266059949994087\n",
      "epoch 75,loss 0.021028589457273483\n",
      "epoch 76,loss 0.020793747156858444\n",
      "epoch 77,loss 0.02056156098842621\n",
      "epoch 78,loss 0.020331894978880882\n",
      "epoch 79,loss 0.020104890689253807\n",
      "epoch 80,loss 0.019880371168255806\n",
      "epoch 81,loss 0.01965831220149994\n",
      "epoch 82,loss 0.019438808783888817\n",
      "epoch 83,loss 0.01922178640961647\n",
      "epoch 84,loss 0.01900709606707096\n",
      "epoch 85,loss 0.018794825300574303\n",
      "epoch 86,loss 0.018585002049803734\n",
      "epoch 87,loss 0.01837746426463127\n",
      "epoch 88,loss 0.01817225106060505\n",
      "epoch 89,loss 0.017969360575079918\n",
      "epoch 90,loss 0.017768684774637222\n",
      "epoch 91,loss 0.01757030189037323\n",
      "epoch 92,loss 0.017374100163578987\n",
      "epoch 93,loss 0.017179979011416435\n",
      "epoch 94,loss 0.016988180577754974\n",
      "epoch 95,loss 0.016798479482531548\n",
      "epoch 96,loss 0.016610916703939438\n",
      "epoch 97,loss 0.01642541028559208\n",
      "epoch 98,loss 0.016241934150457382\n",
      "epoch 99,loss 0.016060613095760345\n",
      "epoch 100,loss 0.01588124968111515\n"
     ]
    },
    {
     "name": "stderr",
     "output_type": "stream",
     "text": [
      "D:\\Anaconda\\lib\\site-packages\\ipykernel_launcher.py:27: UserWarning: invalid index of a 0-dim tensor. This will be an error in PyTorch 0.5. Use tensor.item() to convert a 0-dim tensor to a Python number\n"
     ]
    }
   ],
   "source": [
    "epochs=100\n",
    "for ep in range(epochs):  \n",
    "    ep+=1\n",
    "    \n",
    "    if torch.cuda.is_available():\n",
    "        inputs=Variable(torch.from_numpy(x).cuda())\n",
    "        labels=Variable(torch.from_numpy(y).cuda())\n",
    "    else:\n",
    "        inputs=Variable(torch.from_numpy(x))\n",
    "        labels=Variable(torch.from_numpy(y))\n",
    "    \n",
    "#     Clear gradients wrt every parameter in each epoch\n",
    "    optimizer.zero_grad()\n",
    "    \n",
    "#     y=a*x+b . The forward function is being called here\n",
    "    outputs=model(inputs) # we provide only input values and function gives the predicted y value\n",
    "    \n",
    "#     Calculate loss\n",
    "    loss=criterion(outputs,labels)\n",
    "    \n",
    "#     Calculate backpropagation\n",
    "    loss.backward()\n",
    "    \n",
    "#     Update parameters\n",
    "    optimizer.step()\n",
    "    \n",
    "    print('epoch {},loss {}'.format(ep,loss.data[0]))"
   ]
  },
  {
   "cell_type": "code",
   "execution_count": 109,
   "metadata": {},
   "outputs": [],
   "source": [
    "predicted=model(Variable(torch.from_numpy(x))).data.numpy()"
   ]
  },
  {
   "cell_type": "code",
   "execution_count": 110,
   "metadata": {},
   "outputs": [
    {
     "data": {
      "text/plain": [
       "array([[ 0.76557565],\n",
       "       [ 2.799335  ],\n",
       "       [ 4.8330946 ],\n",
       "       [ 6.8668537 ],\n",
       "       [ 8.900613  ],\n",
       "       [10.934372  ],\n",
       "       [12.968132  ],\n",
       "       [15.001891  ],\n",
       "       [17.03565   ],\n",
       "       [19.06941   ],\n",
       "       [21.103168  ]], dtype=float32)"
      ]
     },
     "execution_count": 110,
     "metadata": {},
     "output_type": "execute_result"
    }
   ],
   "source": [
    "predicted"
   ]
  },
  {
   "cell_type": "code",
   "execution_count": 111,
   "metadata": {},
   "outputs": [
    {
     "data": {
      "text/plain": [
       "array([[ 1.],\n",
       "       [ 3.],\n",
       "       [ 5.],\n",
       "       [ 7.],\n",
       "       [ 9.],\n",
       "       [11.],\n",
       "       [13.],\n",
       "       [15.],\n",
       "       [17.],\n",
       "       [19.],\n",
       "       [21.]], dtype=float32)"
      ]
     },
     "execution_count": 111,
     "metadata": {},
     "output_type": "execute_result"
    }
   ],
   "source": [
    "y"
   ]
  },
  {
   "cell_type": "code",
   "execution_count": 112,
   "metadata": {},
   "outputs": [
    {
     "data": {
      "text/plain": [
       "<function matplotlib.pyplot.show(*args, **kw)>"
      ]
     },
     "execution_count": 112,
     "metadata": {},
     "output_type": "execute_result"
    },
    {
     "data": {
      "image/png": "[encoded data removed]",
      "text/plain": [
       "<Figure size 432x288 with 1 Axes>"
      ]
     },
     "metadata": {
      "needs_background": "light"
     },
     "output_type": "display_data"
    }
   ],
   "source": [
    "plt.clf()\n",
    "predicted=model(Variable(torch.from_numpy(x))).data.numpy()\n",
    "plt.plot(x,y,\"go\",label=\"True Data\",alpha=0.5)\n",
    "plt.plot(x,predicted,\"--\",label=\"Predictions\",alpha=0.5)\n",
    "plt.legend(loc=\"best\")\n",
    "plt.show"
   ]
  },
  {
   "cell_type": "code",
   "execution_count": 113,
   "metadata": {},
   "outputs": [],
   "source": [
    "#save model\n",
    "save_model=True\n",
    "if save_model is True:\n",
    "    torch.save(model.state_dict(),'practice.pkl')"
   ]
  },
  {
   "cell_type": "code",
   "execution_count": 114,
   "metadata": {},
   "outputs": [],
   "source": [
    "load_model=True\n",
    "if load_model is True:\n",
    "    model.load_state_dict(torch.load('practice.pkl'))"
   ]
  },
  {
   "cell_type": "code",
   "execution_count": null,
   "metadata": {},
   "outputs": [],
   "source": []
  },
  {
   "cell_type": "code",
   "execution_count": null,
   "metadata": {},
   "outputs": [],
   "source": []
  }
 ],
 "metadata": {
  "kernelspec": {
   "display_name": "Python 3",
   "language": "python",
   "name": "python3"
  },
  "language_info": {
   "codemirror_mode": {
    "name": "ipython",
    "version": 3
   },
   "file_extension": ".py",
   "mimetype": "text/x-python",
   "name": "python",
   "nbconvert_exporter": "python",
   "pygments_lexer": "ipython3",
   "version": "3.7.0"
  }
 },
 "nbformat": 4,
 "nbformat_minor": 2
}
